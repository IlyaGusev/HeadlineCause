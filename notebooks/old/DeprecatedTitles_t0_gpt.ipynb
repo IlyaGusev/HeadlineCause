{
 "cells": [
  {
   "cell_type": "markdown",
   "metadata": {
    "id": "XaUfkeh4woWU"
   },
   "source": [
    "# Requirements"
   ]
  },
  {
   "cell_type": "code",
   "execution_count": 1,
   "metadata": {
    "colab": {
     "base_uri": "https://localhost:8080/",
     "height": 1000
    },
    "id": "Cmvj-Jh4QgQN",
    "outputId": "b7a875f1-e400-44d7-c53f-d9b072b35027"
   },
   "outputs": [],
   "source": [
    "# !pip install --upgrade transformers bertviz checklist"
   ]
  },
  {
   "cell_type": "markdown",
   "metadata": {
    "id": "wmmy8-VA3__6"
   },
   "source": [
    "# Data loading"
   ]
  },
  {
   "cell_type": "code",
   "execution_count": 2,
   "metadata": {
    "colab": {
     "base_uri": "https://localhost:8080/"
    },
    "id": "Pm5jSAP0No_j",
    "outputId": "4e52957d-d6d0-4581-ae7a-43149e854fc8"
   },
   "outputs": [],
   "source": [
    "# !rm -rf ru_news_cause_v1.tsv*\n",
    "# !wget https://www.dropbox.com/s/kcxnhjzfut4guut/ru_news_cause_v1.tsv.tar.gz\n",
    "# !tar -xzvf ru_news_cause_v1.tsv.tar.gz"
   ]
  },
  {
   "cell_type": "code",
   "execution_count": 3,
   "metadata": {
    "colab": {
     "base_uri": "https://localhost:8080/"
    },
    "id": "bV6i0sRfN3NH",
    "outputId": "e8444783-9e40-4a3a-daf5-eda3c958131d"
   },
   "outputs": [],
   "source": [
    "# !cat ru_news_cause_v1.tsv | wc -l\n",
    "# !head ru_news_cause_v1.tsv"
   ]
  },
  {
   "cell_type": "markdown",
   "metadata": {
    "id": "oEhRCkSOwsGj"
   },
   "source": [
    "# GPTCause"
   ]
  },
  {
   "cell_type": "code",
   "execution_count": 3,
   "metadata": {},
   "outputs": [
    {
     "name": "stderr",
     "output_type": "stream",
     "text": [
      "2021-08-01 15:30:34.664821: I tensorflow/stream_executor/platform/default/dso_loader.cc:49] Successfully opened dynamic library libcudart.so.11.0\n"
     ]
    },
    {
     "data": {
      "application/vnd.jupyter.widget-view+json": {
       "model_id": "475d25b8f4da4fa0bb782e6e840e5292",
       "version_major": 2,
       "version_minor": 0
      },
      "text/plain": [
       "HBox(children=(FloatProgress(value=0.0, description='Downloading', max=608.0, style=ProgressStyle(description_…"
      ]
     },
     "metadata": {},
     "output_type": "display_data"
    },
    {
     "name": "stdout",
     "output_type": "stream",
     "text": [
      "\n"
     ]
    },
    {
     "data": {
      "application/vnd.jupyter.widget-view+json": {
       "model_id": "c61d83c498504197acb2a43b524f88d3",
       "version_major": 2,
       "version_minor": 0
      },
      "text/plain": [
       "HBox(children=(FloatProgress(value=0.0, description='Downloading', max=551290714.0, style=ProgressStyle(descri…"
      ]
     },
     "metadata": {},
     "output_type": "display_data"
    },
    {
     "name": "stdout",
     "output_type": "stream",
     "text": [
      "\n"
     ]
    },
    {
     "data": {
      "application/vnd.jupyter.widget-view+json": {
       "model_id": "4c1cc3c200654363bfc1668d3bbe4cdf",
       "version_major": 2,
       "version_minor": 0
      },
      "text/plain": [
       "HBox(children=(FloatProgress(value=0.0, description='Downloading', max=1713123.0, style=ProgressStyle(descript…"
      ]
     },
     "metadata": {},
     "output_type": "display_data"
    },
    {
     "name": "stdout",
     "output_type": "stream",
     "text": [
      "\n"
     ]
    },
    {
     "data": {
      "application/vnd.jupyter.widget-view+json": {
       "model_id": "f36d98c3e4c641209b506e31f8504c51",
       "version_major": 2,
       "version_minor": 0
      },
      "text/plain": [
       "HBox(children=(FloatProgress(value=0.0, description='Downloading', max=1270925.0, style=ProgressStyle(descript…"
      ]
     },
     "metadata": {},
     "output_type": "display_data"
    },
    {
     "name": "stdout",
     "output_type": "stream",
     "text": [
      "\n"
     ]
    },
    {
     "name": "stderr",
     "output_type": "stream",
     "text": [
      "Special tokens have been added in the vocabulary, make sure the associated word embeddings are fine-tuned or trained.\n"
     ]
    }
   ],
   "source": [
    "from transformers import GPT2LMHeadModel, GPT2TokenizerFast\n",
    "device = 'cuda'\n",
    "model_id = 'sberbank-ai/rugpt3small_based_on_gpt2' \n",
    " \n",
    "model = GPT2LMHeadModel.from_pretrained(model_id).to(device)\n",
    "tokenizer = GPT2TokenizerFast.from_pretrained(model_id)"
   ]
  },
  {
   "cell_type": "code",
   "execution_count": 21,
   "metadata": {},
   "outputs": [],
   "source": [
    "import torch\n",
    "max_length = model.config.n_positions\n",
    "\n",
    "def gpt_assess(s1, s2):\n",
    "    encodings = tokenizer(f'{s1} {s2}', return_tensors='pt')\n",
    "    with torch.no_grad():\n",
    "        outputs = model(encodings.input_ids.to(device), labels=encodings.input_ids.to(device))\n",
    "        log_likelihood = outputs[0] * encodings.input_ids.size(1)\n",
    "    return log_likelihood.detach().cpu().numpy()\n",
    "\n",
    "def gpt_assess_pair(s1,s2):\n",
    "    ppl1 = gpt_assess(s1,s2)\n",
    "    ppl2 = gpt_assess(s2,s1)\n",
    "    if ppl1<ppl2:\n",
    "        return 0, ppl1/ppl2\n",
    "    else:\n",
    "        return 1, ppl1/ppl2"
   ]
  },
  {
   "cell_type": "code",
   "execution_count": 22,
   "metadata": {},
   "outputs": [
    {
     "name": "stdout",
     "output_type": "stream",
     "text": [
      "11.083624\n",
      "23.637806\n",
      "(1, 2.1326785)\n",
      "(0, 0.46889395)\n"
     ]
    }
   ],
   "source": [
    "print(gpt_assess('Привет!', 'Как дела?'))\n",
    "print(gpt_assess('Как дела?', 'Привет!'))\n",
    "print(gpt_assess_pair('Как дела?', 'Привет!'))\n",
    "print(gpt_assess_pair('Привет!', 'Как дела?'))\n"
   ]
  },
  {
   "cell_type": "markdown",
   "metadata": {
    "id": "vqyfs3dw4Dmu"
   },
   "source": [
    "## Scoring"
   ]
  },
  {
   "cell_type": "code",
   "execution_count": 23,
   "metadata": {
    "id": "PAZ3HW8iN9-h"
   },
   "outputs": [],
   "source": [
    "import csv\n",
    "\n",
    "labels = []\n",
    "texts = []\n",
    "preds = []\n",
    "confs = []\n",
    "\n",
    "with open(\"ru_news_cause_v1.tsv\", \"r\", encoding='utf-8') as r:\n",
    "    reader = csv.reader(r, delimiter=\"\\t\")\n",
    "    header = next(reader)\n",
    "    for row in reader:\n",
    "        r = dict(zip(header, row))\n",
    "        if float(r[\"confidence\"]) < 0.69:\n",
    "            continue\n",
    "        result = r[\"result\"]\n",
    "        mapping = {\n",
    "            \"left_right_cause\": 0,\n",
    "            \"left_right_cancel\": 0,\n",
    "            \"right_left_cause\": 1,\n",
    "            \"right_left_cancel\": 1\n",
    "        }\n",
    "        if result not in mapping:\n",
    "            continue\n",
    "        r[\"label\"] = mapping[result]\n",
    "        \n",
    "        labels.append(r['label'])\n",
    "        texts.append( (r[\"left_title\"], r[\"right_title\"] ) )\n",
    "        p, c = gpt_assess_pair( r[\"left_title\"], r[\"right_title\"] )\n",
    "        preds.append( p )\n",
    "        confs.append( c )\n"
   ]
  },
  {
   "cell_type": "code",
   "execution_count": 24,
   "metadata": {
    "colab": {
     "base_uri": "https://localhost:8080/"
    },
    "id": "WN65SEFpOOmI",
    "outputId": "8dee99db-44fb-4b19-c5ac-954d37a65980"
   },
   "outputs": [
    {
     "name": "stdout",
     "output_type": "stream",
     "text": [
      "labels Counter({1: 763, 0: 706})\n",
      "preds Counter({1: 742, 0: 727})\n"
     ]
    }
   ],
   "source": [
    "from collections import Counter\n",
    "\n",
    "print('labels', Counter(labels))\n",
    "print('preds', Counter(preds))"
   ]
  },
  {
   "cell_type": "code",
   "execution_count": 25,
   "metadata": {},
   "outputs": [
    {
     "name": "stdout",
     "output_type": "stream",
     "text": [
      "huggingface/tokenizers: The current process just got forked, after parallelism has already been used. Disabling parallelism to avoid deadlocks...\n",
      "To disable this warning, you can either:\n",
      "\t- Avoid using `tokenizers` before the fork if possible\n",
      "\t- Explicitly set the environment variable TOKENIZERS_PARALLELISM=(true | false)\n",
      "huggingface/tokenizers: The current process just got forked, after parallelism has already been used. Disabling parallelism to avoid deadlocks...\n",
      "To disable this warning, you can either:\n",
      "\t- Avoid using `tokenizers` before the fork if possible\n",
      "\t- Explicitly set the environment variable TOKENIZERS_PARALLELISM=(true | false)\n"
     ]
    },
    {
     "data": {
      "image/png": "[encoded data removed]",
      "text/plain": [
       "<Figure size 432x288 with 1 Axes>"
      ]
     },
     "metadata": {
      "needs_background": "light"
     },
     "output_type": "display_data"
    }
   ],
   "source": [
    "import matplotlib.pyplot as plt\n",
    "\n",
    "plt.hist(confs)\n",
    "plt.show()"
   ]
  },
  {
   "cell_type": "code",
   "execution_count": 18,
   "metadata": {},
   "outputs": [
    {
     "name": "stdout",
     "output_type": "stream",
     "text": [
      "              precision    recall  f1-score   support\n",
      "\n",
      "           0       0.58      0.60      0.59       706\n",
      "           1       0.62      0.60      0.61       763\n",
      "\n",
      "    accuracy                           0.60      1469\n",
      "   macro avg       0.60      0.60      0.60      1469\n",
      "weighted avg       0.60      0.60      0.60      1469\n",
      "\n",
      "balanced_accuracy_score 0.5976343938308228\n",
      "\n",
      "confusion_matrix\n",
      " [[421 285]\n",
      " [306 457]]\n"
     ]
    }
   ],
   "source": [
    "from sklearn.metrics import classification_report, balanced_accuracy_score, confusion_matrix\n",
    "y_true = labels\n",
    "y_pred = preds\n",
    "\n",
    "print(classification_report(y_true, y_pred))\n",
    "print('balanced_accuracy_score', balanced_accuracy_score(y_true, y_pred))\n",
    "print('\\nconfusion_matrix\\n',confusion_matrix(y_true, y_pred))\n",
    "\n"
   ]
  },
  {
   "cell_type": "code",
   "execution_count": 32,
   "metadata": {},
   "outputs": [
    {
     "name": "stdout",
     "output_type": "stream",
     "text": [
      "              precision    recall  f1-score   support\n",
      "\n",
      "           0       0.73      0.67      0.70       139\n",
      "           1       0.72      0.78      0.75       153\n",
      "\n",
      "    accuracy                           0.73       292\n",
      "   macro avg       0.73      0.72      0.72       292\n",
      "weighted avg       0.73      0.73      0.73       292\n",
      "\n",
      "balanced_accuracy_score 0.7234212629896083\n",
      "\n",
      "confusion_matrix\n",
      " [[ 93  46]\n",
      " [ 34 119]]\n"
     ]
    }
   ],
   "source": [
    "import numpy as np\n",
    "\n",
    "confidence_th = .1\n",
    "\n",
    "mask = np.array(list(map(lambda x:abs(x-1.), confs)))>confidence_th\n",
    "\n",
    "y_true = np.array(labels)[mask]\n",
    "y_pred = np.array(preds)[mask]\n",
    "\n",
    "print(classification_report(y_true, y_pred))\n",
    "print('balanced_accuracy_score', balanced_accuracy_score(y_true, y_pred))\n",
    "print('\\nconfusion_matrix\\n',confusion_matrix(y_true, y_pred))\n",
    "\n"
   ]
  },
  {
   "cell_type": "code",
   "execution_count": 40,
   "metadata": {},
   "outputs": [],
   "source": [
    "from sklearn.metrics import f1_score\n",
    "\n",
    "xs = []\n",
    "ys = []\n",
    "for th_idx in range(250):\n",
    "    th = th_idx/1000.\n",
    "    mask = np.array(list(map(lambda x:abs(x-1.), confs)))>th\n",
    "\n",
    "    y_true = np.array(labels)[mask]\n",
    "    y_pred = np.array(preds)[mask]\n",
    "    xs.append( th )\n",
    "    ys.append( f1_score(y_true, y_pred) )\n"
   ]
  },
  {
   "cell_type": "code",
   "execution_count": 44,
   "metadata": {},
   "outputs": [
    {
     "data": {
      "image/png": "[encoded data removed]",
      "text/plain": [
       "<Figure size 432x288 with 1 Axes>"
      ]
     },
     "metadata": {
      "needs_background": "light"
     },
     "output_type": "display_data"
    }
   ],
   "source": [
    "import matplotlib.pyplot as plt\n",
    "\n",
    "plt.plot(xs, ys)\n",
    "plt.suptitle('f1 by conf_th')\n",
    "plt.show()"
   ]
  }
 ],
 "metadata": {
  "accelerator": "GPU",
  "colab": {
   "collapsed_sections": [
    "XN_3krN3VNHl"
   ],
   "name": "DeprecatedTitles.ipynb",
   "provenance": [],
   "toc_visible": true
  },
  "kernelspec": {
   "display_name": "Python 3 (ipykernel)",
   "language": "python",
   "name": "python3"
  },
  "language_info": {
   "codemirror_mode": {
    "name": "ipython",
    "version": 3
   },
   "file_extension": ".py",
   "mimetype": "text/x-python",
   "name": "python",
   "nbconvert_exporter": "python",
   "pygments_lexer": "ipython3",
   "version": "3.7.9"
  },
  "widgets": {
   "application/vnd.jupyter.widget-state+json": {
    "317e3bf1475a4660936f1c8e0f8ad5da": {
     "model_module": "@jupyter-widgets/base",
     "model_name": "LayoutModel",
     "state": {
      "_model_module": "@jupyter-widgets/base",
      "_model_module_version": "1.2.0",
      "_model_name": "LayoutModel",
      "_view_count": null,
      "_view_module": "@jupyter-widgets/base",
      "_view_module_version": "1.2.0",
      "_view_name": "LayoutView",
      "align_content": null,
      "align_items": null,
      "align_self": null,
      "border": null,
      "bottom": null,
      "display": null,
      "flex": null,
      "flex_flow": null,
      "grid_area": null,
      "grid_auto_columns": null,
      "grid_auto_flow": null,
      "grid_auto_rows": null,
      "grid_column": null,
      "grid_gap": null,
      "grid_row": null,
      "grid_template_areas": null,
      "grid_template_columns": null,
      "grid_template_rows": null,
      "height": null,
      "justify_content": null,
      "justify_items": null,
      "left": null,
      "margin": null,
      "max_height": null,
      "max_width": null,
      "min_height": null,
      "min_width": null,
      "object_fit": null,
      "object_position": null,
      "order": null,
      "overflow": null,
      "overflow_x": null,
      "overflow_y": null,
      "padding": null,
      "right": null,
      "top": null,
      "visibility": null,
      "width": null
     }
    },
    "678b99192bf34feaa3591281cf4c9385": {
     "model_module": "@jupyter-widgets/controls",
     "model_name": "ProgressStyleModel",
     "state": {
      "_model_module": "@jupyter-widgets/controls",
      "_model_module_version": "1.5.0",
      "_model_name": "ProgressStyleModel",
      "_view_count": null,
      "_view_module": "@jupyter-widgets/base",
      "_view_module_version": "1.2.0",
      "_view_name": "StyleView",
      "bar_color": null,
      "description_width": "initial"
     }
    },
    "7f1f5cb3c0d2463f8774b83bcf243822": {
     "model_module": "@jupyter-widgets/base",
     "model_name": "LayoutModel",
     "state": {
      "_model_module": "@jupyter-widgets/base",
      "_model_module_version": "1.2.0",
      "_model_name": "LayoutModel",
      "_view_count": null,
      "_view_module": "@jupyter-widgets/base",
      "_view_module_version": "1.2.0",
      "_view_name": "LayoutView",
      "align_content": null,
      "align_items": null,
      "align_self": null,
      "border": null,
      "bottom": null,
      "display": null,
      "flex": null,
      "flex_flow": null,
      "grid_area": null,
      "grid_auto_columns": null,
      "grid_auto_flow": null,
      "grid_auto_rows": null,
      "grid_column": null,
      "grid_gap": null,
      "grid_row": null,
      "grid_template_areas": null,
      "grid_template_columns": null,
      "grid_template_rows": null,
      "height": null,
      "justify_content": null,
      "justify_items": null,
      "left": null,
      "margin": null,
      "max_height": null,
      "max_width": null,
      "min_height": null,
      "min_width": null,
      "object_fit": null,
      "object_position": null,
      "order": null,
      "overflow": null,
      "overflow_x": null,
      "overflow_y": null,
      "padding": null,
      "right": null,
      "top": null,
      "visibility": null,
      "width": null
     }
    },
    "85e64aedcbd44f7daba63e94a81c9e1f": {
     "model_module": "@jupyter-widgets/controls",
     "model_name": "HBoxModel",
     "state": {
      "_dom_classes": [],
      "_model_module": "@jupyter-widgets/controls",
      "_model_module_version": "1.5.0",
      "_model_name": "HBoxModel",
      "_view_count": null,
      "_view_module": "@jupyter-widgets/controls",
      "_view_module_version": "1.5.0",
      "_view_name": "HBoxView",
      "box_style": "",
      "children": [
       "IPY_MODEL_9d4417c0e3584042a686d4c848d94f49",
       "IPY_MODEL_c2d8dd7540064898b8c142175786bf70"
      ],
      "layout": "IPY_MODEL_f958cec91e904d5c9caf315b42a388ed"
     }
    },
    "9d4417c0e3584042a686d4c848d94f49": {
     "model_module": "@jupyter-widgets/controls",
     "model_name": "FloatProgressModel",
     "state": {
      "_dom_classes": [],
      "_model_module": "@jupyter-widgets/controls",
      "_model_module_version": "1.5.0",
      "_model_name": "FloatProgressModel",
      "_view_count": null,
      "_view_module": "@jupyter-widgets/controls",
      "_view_module_version": "1.5.0",
      "_view_name": "ProgressView",
      "bar_style": "success",
      "description": "100%",
      "description_tooltip": null,
      "layout": "IPY_MODEL_317e3bf1475a4660936f1c8e0f8ad5da",
      "max": 55535,
      "min": 0,
      "orientation": "horizontal",
      "style": "IPY_MODEL_678b99192bf34feaa3591281cf4c9385",
      "value": 55535
     }
    },
    "b95d69cae6404d46963c015e18ebbbf9": {
     "model_module": "@jupyter-widgets/controls",
     "model_name": "DescriptionStyleModel",
     "state": {
      "_model_module": "@jupyter-widgets/controls",
      "_model_module_version": "1.5.0",
      "_model_name": "DescriptionStyleModel",
      "_view_count": null,
      "_view_module": "@jupyter-widgets/base",
      "_view_module_version": "1.2.0",
      "_view_name": "StyleView",
      "description_width": ""
     }
    },
    "c2d8dd7540064898b8c142175786bf70": {
     "model_module": "@jupyter-widgets/controls",
     "model_name": "HTMLModel",
     "state": {
      "_dom_classes": [],
      "_model_module": "@jupyter-widgets/controls",
      "_model_module_version": "1.5.0",
      "_model_name": "HTMLModel",
      "_view_count": null,
      "_view_module": "@jupyter-widgets/controls",
      "_view_module_version": "1.5.0",
      "_view_name": "HTMLView",
      "description": "",
      "description_tooltip": null,
      "layout": "IPY_MODEL_7f1f5cb3c0d2463f8774b83bcf243822",
      "placeholder": "​",
      "style": "IPY_MODEL_b95d69cae6404d46963c015e18ebbbf9",
      "value": " 55535/55535 [31:23&lt;00:00, 29.48it/s]"
     }
    },
    "f958cec91e904d5c9caf315b42a388ed": {
     "model_module": "@jupyter-widgets/base",
     "model_name": "LayoutModel",
     "state": {
      "_model_module": "@jupyter-widgets/base",
      "_model_module_version": "1.2.0",
      "_model_name": "LayoutModel",
      "_view_count": null,
      "_view_module": "@jupyter-widgets/base",
      "_view_module_version": "1.2.0",
      "_view_name": "LayoutView",
      "align_content": null,
      "align_items": null,
      "align_self": null,
      "border": null,
      "bottom": null,
      "display": null,
      "flex": null,
      "flex_flow": null,
      "grid_area": null,
      "grid_auto_columns": null,
      "grid_auto_flow": null,
      "grid_auto_rows": null,
      "grid_column": null,
      "grid_gap": null,
      "grid_row": null,
      "grid_template_areas": null,
      "grid_template_columns": null,
      "grid_template_rows": null,
      "height": null,
      "justify_content": null,
      "justify_items": null,
      "left": null,
      "margin": null,
      "max_height": null,
      "max_width": null,
      "min_height": null,
      "min_width": null,
      "object_fit": null,
      "object_position": null,
      "order": null,
      "overflow": null,
      "overflow_x": null,
      "overflow_y": null,
      "padding": null,
      "right": null,
      "top": null,
      "visibility": null,
      "width": null
     }
    }
   }
  }
 },
 "nbformat": 4,
 "nbformat_minor": 1
}
