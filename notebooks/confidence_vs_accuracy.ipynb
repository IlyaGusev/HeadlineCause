{
 "cells": [
  {
   "cell_type": "markdown",
   "metadata": {
    "id": "oEhRCkSOwsGj"
   },
   "source": [
    "# BertCause"
   ]
  },
  {
   "cell_type": "markdown",
   "metadata": {
    "id": "vqyfs3dw4Dmu"
   },
   "source": [
    "## Training"
   ]
  },
  {
   "cell_type": "code",
   "execution_count": 1,
   "metadata": {
    "id": "VlYo1CIaQLY7"
   },
   "outputs": [],
   "source": [
    "import random\n",
    "import torch\n",
    "import numpy as np\n",
    "import os\n",
    "\n",
    "def set_random_seed(seed):\n",
    "    random.seed(seed)\n",
    "    np.random.seed(seed)\n",
    "    torch.manual_seed(seed)\n",
    "    torch.cuda.manual_seed_all(seed)\n",
    "set_random_seed(1337)"
   ]
  },
  {
   "cell_type": "code",
   "execution_count": 2,
   "metadata": {
    "id": "PAZ3HW8iN9-h"
   },
   "outputs": [],
   "source": [
    "import csv\n",
    "\n",
    "def read_records(file_name):\n",
    "    records = []\n",
    "    with open(file_name, \"r\") as r:\n",
    "        reader = csv.reader(r, delimiter=\"\\t\")\n",
    "        header = next(reader)\n",
    "        for row in reader:\n",
    "            r = dict(zip(header, row))\n",
    "            result = r[\"result\"]\n",
    "            mapping = {\n",
    "                \"bad\": 0,\n",
    "                \"rel\": 0,\n",
    "                \"same\": 0,\n",
    "                \"left_right_cause\": 1,\n",
    "                \"left_right_cancel\": 1,\n",
    "                \"right_left_cause\": 2,\n",
    "                \"right_left_cancel\": 2\n",
    "            }\n",
    "            if result not in mapping:\n",
    "                continue\n",
    "            r[\"label\"] = mapping[result]\n",
    "            records.append(r)\n",
    "    return records\n",
    "\n",
    "ru_records = read_records(\"ru_news_cause_v2.tsv\")\n"
   ]
  },
  {
   "cell_type": "code",
   "execution_count": 3,
   "metadata": {
    "colab": {
     "base_uri": "https://localhost:8080/"
    },
    "id": "WN65SEFpOOmI",
    "outputId": "979bff58-4bb4-4d51-82b7-ddf871cf6b28"
   },
   "outputs": [
    {
     "name": "stdout",
     "output_type": "stream",
     "text": [
      "Counter({0: 3605, 2: 925, 1: 875})\n"
     ]
    }
   ],
   "source": [
    "from collections import Counter\n",
    "\n",
    "ru_labels_counter = Counter([r[\"label\"] for r in ru_records])\n",
    "print(ru_labels_counter)\n",
    "\n",
    "labels_count = len(ru_labels_counter)"
   ]
  },
  {
   "cell_type": "code",
   "execution_count": 4,
   "metadata": {
    "colab": {
     "base_uri": "https://localhost:8080/"
    },
    "id": "_RkHClonSW6p",
    "outputId": "199a9246-dcc5-4435-aa4d-131f912397ac"
   },
   "outputs": [
    {
     "name": "stdout",
     "output_type": "stream",
     "text": [
      "RU:\n",
      "4323\n",
      "540\n",
      "542\n",
      "\n"
     ]
    }
   ],
   "source": [
    "from collections import defaultdict\n",
    "\n",
    "def split_with_source(records, val_border=0.8, test_border=0.9):\n",
    "    records_by_source = defaultdict(list)\n",
    "    for r in records:\n",
    "        source = r[\"id\"].split(\"_\")[0]\n",
    "        records_by_source[source].append(r)\n",
    "\n",
    "    train_records, val_records, test_records = [], [], []\n",
    "    for _, source_records in records_by_source.items():\n",
    "        source_records.sort(key=lambda x: min(x[\"left_timestamp\"], x[\"right_timestamp\"]))\n",
    "        val_border = int(0.8 * len(source_records))\n",
    "        test_border = int(0.9 * len(source_records))\n",
    "        train_records.extend(source_records[:val_border])\n",
    "        val_records.extend(source_records[val_border:test_border])\n",
    "        test_records.extend(source_records[test_border:])\n",
    "    return train_records, val_records, test_records\n",
    "\n",
    "ru_train_records, ru_val_records, ru_test_records = split_with_source(ru_records)\n",
    "print(\"RU:\")\n",
    "print(len(ru_train_records))\n",
    "print(len(ru_val_records))\n",
    "print(len(ru_test_records))\n",
    "print()"
   ]
  },
  {
   "cell_type": "code",
   "execution_count": 5,
   "metadata": {
    "colab": {
     "base_uri": "https://localhost:8080/"
    },
    "id": "tAU_PwzoCYBr",
    "outputId": "94e431c8-e0a0-47ff-bd08-f3382307f314"
   },
   "outputs": [
    {
     "name": "stderr",
     "output_type": "stream",
     "text": [
      "/media/altsoph/Volume/_py37/lib/python3.7/site-packages/torchaudio/backend/utils.py:54: UserWarning: \"sox\" backend is being deprecated. The default backend will be changed to \"sox_io\" backend in 0.8.0 and \"sox\" backend will be removed in 0.9.0. Please migrate to \"sox_io\" backend. Please refer to https://github.com/pytorch/audio/issues/903 for the detail.\n",
      "  '\"sox\" backend is being deprecated. '\n",
      "2021-08-09 10:59:06.356534: I tensorflow/stream_executor/platform/default/dso_loader.cc:49] Successfully opened dynamic library libcudart.so.11.0\n"
     ]
    }
   ],
   "source": [
    "from transformers import pipeline\n",
    "import random\n",
    "import torch\n",
    "import numpy as np\n",
    "import os\n",
    "import random\n",
    "from transformers import AutoModelForSequenceClassification, AutoTokenizer\n",
    "\n",
    "def set_random_seed(seed):\n",
    "    random.seed(seed)\n",
    "    np.random.seed(seed)\n",
    "    os.environ[\"CUBLAS_WORKSPACE_CONFIG\"] = \":4096:2\"\n",
    "    os.environ[\"PL_GLOBAL_SEED\"] = str(seed)\n",
    "    os.environ[\"PYTHONHASHSEED\"] = str(seed)\n",
    "    torch.manual_seed(seed)\n",
    "    torch.cuda.manual_seed_all(seed)\n",
    "    torch.backends.cudnn.benchmark = False\n",
    "    torch.backends.cudnn.deterministic = True\n",
    "\n",
    "def pipe_predict(data, batch_size=64):\n",
    "    raw_preds = pipe(data, batch_size=batch_size)\n",
    "    preds = np.array([int(max(labels, key=lambda x: x[\"score\"])[\"label\"][-1]) for labels in raw_preds])\n",
    "    pp = np.array([[l[\"score\"] for l in labels] for labels in raw_preds])\n",
    "    return preds, pp\n",
    "    \n",
    "set_random_seed(1337)\n",
    "\n",
    "MODEL_NAME = \"xlm-roberta-large\"\n",
    "TOKENIZER_NAME = MODEL_NAME\n",
    "\n",
    "tokenizer = AutoTokenizer.from_pretrained(MODEL_NAME, do_lower_case=False)\n",
    "MODEL_NAME = \"./bertcause-task0/checkpoint-192\"\n",
    "MAX_TOKENS = 80\n",
    "\n",
    "model = AutoModelForSequenceClassification.from_pretrained(MODEL_NAME, num_labels=3)\n",
    "model = model.to(\"cuda\")\n",
    "\n",
    "\n",
    "model.eval()\n",
    "pipe = pipeline(\"text-classification\", model=model, tokenizer=tokenizer, framework=\"pt\", device=0, return_all_scores=True)\n",
    "\n"
   ]
  },
  {
   "cell_type": "code",
   "execution_count": 6,
   "metadata": {
    "colab": {
     "base_uri": "https://localhost:8080/"
    },
    "id": "sV9t43vBCevH",
    "outputId": "2a391929-5b89-469f-9d54-15297c236a5b"
   },
   "outputs": [
    {
     "name": "stdout",
     "output_type": "stream",
     "text": [
      "[2 1 0 1 0 0 0 0 2 1 2 1 0 1 1 1 2 1 0 0 0 0 0 1 0 0 2 1 0 0 0 1 0 1 0 0 0\n",
      " 0 0 0 0 0 0 2 0 0 1 0 0 0 0 0 0 2 1 0 1 1 0 2 0 0 0 0 0 0 0 0 0 1 0 0 1 0\n",
      " 0 1 2 0 0 0 1 0 1 0 0 0 2 0 2 0 0 0 1 0 0 0 0 2 0 0 0 2 0 1 1 0 0 0 0 0 0\n",
      " 2 0 1 1 0 1 1 2 0 0 1 0 0 0 0 1 1 0 0 0 2 0 1 0 2 0 0 0 2 0 2 2 1 0 1 0 0\n",
      " 0 0 2 1 0 0 0 2 0 0 0 0 1 2 1 2 1 2 0 0 0 1 0 1 1 0 1 0 2 0 2 2 1 0 2 2 0\n",
      " 0 0 0 1 1 2 0 0 0 2 0 1 1 0 1 2 2 0 1 0 2 0 1 2 1 1 1 2 0 2 2 0 0 0 0 0 0\n",
      " 0 0 2 1 0 1 0 0 0 0 2 0 0 0 1 0 2 0 0 0 1 0 1 1 0 0 0 0 0 2 1 0 0 2 1 0 0\n",
      " 1 2 1 0 0 0 0 0 0 0 0 0 0 0 0 0 0 2 1 0 0 2 2 2 1 1 2 0 0 0 0 0 1 0 0 1 1\n",
      " 0 1 0 1 0 0 1 1 0 0 0 0 0 0 2 0 0 2 0 0 0 0 1 0 1 2 1 0 0 1 0 2 0 0 1 2 1\n",
      " 1 0 0 0 1 1 0 2 2 1 2 1 1 1 0 1 1 0 0 0 1 2 1 2 0 1 2 0 2 2 0 2 0 0 2 0 2\n",
      " 0 0 0 1 2 2 0 0 0 0 2 2 1 0 0 1 1 2 0 1 0 0 0 0 0 1 0 0 0 2 0 2 0 1 2 2 1\n",
      " 2 0 1 1 1 1 0 1 1 0 0 0 0 0 1 0 1 0 0 0 0 1 0 1 2 1 0 2 0 1 2 2 0 0 2 0 0\n",
      " 0 2 0 0 2 0 0 0 0 0 0 0 0 0 0 0 1 2 1 1 2 0 0 1 2 0 2 2 0 1 0 0 0 1 1 0 2\n",
      " 1 1 1 1 2 1 1 2 1 1 1 1 0 1 0 0 1 2 1 2 1 1 0 0 0 1 1 2 1 0 0 1 1 2 2 0 0\n",
      " 2 1 2 2 1 1 0 0 1 1 2 0 2 1 1 2 0 1 1 2 0 1 0 0]\n"
     ]
    }
   ],
   "source": [
    "import numpy as np\n",
    "\n",
    "ru_y_true = np.array([r[\"label\"] for r in ru_test_records], dtype=np.int32)\n",
    "print(ru_y_true)\n"
   ]
  },
  {
   "cell_type": "code",
   "execution_count": 7,
   "metadata": {},
   "outputs": [
    {
     "data": {
      "text/plain": [
       "array([2, 0, 0, 1, 0, 0, 0, 0, 2, 1, 2, 2, 0, 0, 2, 2, 2, 0, 0, 0, 0, 0,\n",
       "       0, 2, 0, 2, 0, 0, 2, 0, 0, 0, 0, 2, 0, 0, 0, 0, 0, 0, 0, 0, 0, 0,\n",
       "       0, 1, 2, 0, 0, 0, 0, 0, 0, 2, 2, 0, 2, 2, 0, 2, 0, 0, 0, 0, 0, 0,\n",
       "       0, 0, 0, 2, 0, 0, 1, 0, 2, 2, 2, 0, 0, 0, 2, 0, 0, 0, 2, 2, 0, 2,\n",
       "       2, 0, 0, 0, 2, 0, 0, 0, 2, 2, 2, 0, 0, 2, 0, 2, 2, 0, 2, 0, 2, 0,\n",
       "       0, 2, 2, 2, 0, 0, 2, 2, 2, 0, 0, 2, 0, 0, 0, 0, 2, 2, 0, 0, 0, 2,\n",
       "       0, 0, 0, 2, 0, 0, 0, 0, 0, 2, 2, 0, 0, 2, 0, 0, 0, 0, 0, 2, 0, 0,\n",
       "       0, 2, 0, 2, 0, 0, 2, 0, 0, 0, 2, 2, 0, 0, 0, 0, 0, 2, 2, 0, 2, 0,\n",
       "       2, 2, 2, 0, 2, 0, 0, 2, 0, 0, 0, 0, 2, 0, 2, 0, 0, 0, 0, 0, 2, 2,\n",
       "       0, 2, 2, 2, 0, 2, 0, 2, 0, 2, 2, 2, 0, 0, 2, 2, 2, 0, 0, 2, 0, 0,\n",
       "       0, 0, 0, 0, 2, 2, 2, 2, 0, 0, 2, 0, 2, 0, 0, 0, 2, 0, 0, 0, 0, 0,\n",
       "       2, 0, 2, 2, 0, 0, 0, 0, 0, 2, 0, 0, 0, 0, 2, 0, 0, 2, 0, 0, 0, 0,\n",
       "       0, 2, 0, 0, 0, 2, 0, 0, 0, 0, 0, 0, 0, 2, 0, 0, 0, 2, 0, 2, 0, 0,\n",
       "       0, 0, 0, 0, 2, 2, 0, 0, 2, 2, 0, 2, 2, 1, 0, 0, 0, 2, 0, 0, 0, 2,\n",
       "       2, 0, 2, 0, 2, 2, 2, 0, 0, 0, 2, 0, 2, 2, 2, 0, 0, 0, 0, 2, 0, 0,\n",
       "       2, 0, 0, 2, 0, 0, 0, 2, 2, 0, 2, 2, 2, 0, 2, 2, 0, 0, 2, 2, 0, 0,\n",
       "       2, 0, 2, 2, 2, 0, 0, 2, 0, 2, 2, 0, 2, 0, 0, 2, 0, 2, 0, 0, 0, 2,\n",
       "       2, 2, 0, 0, 0, 0, 2, 2, 2, 1, 0, 0, 0, 1, 0, 0, 0, 2, 0, 0, 0, 2,\n",
       "       0, 0, 0, 2, 0, 2, 0, 2, 2, 0, 2, 0, 0, 0, 0, 2, 1, 0, 2, 0, 0, 0,\n",
       "       0, 0, 2, 2, 0, 2, 0, 0, 0, 0, 2, 0, 2, 2, 0, 0, 2, 0, 2, 2, 2, 0,\n",
       "       0, 2, 2, 0, 0, 2, 0, 0, 2, 0, 0, 2, 2, 0, 0, 0, 0, 0, 0, 0, 0, 2,\n",
       "       2, 2, 0, 2, 0, 1, 2, 2, 2, 2, 0, 2, 0, 0, 0, 2, 0, 0, 2, 1, 0, 2,\n",
       "       0, 0, 2, 0, 2, 2, 0, 0, 0, 0, 0, 0, 0, 2, 0, 2, 2, 2, 2, 2, 2, 2,\n",
       "       2, 2, 2, 2, 0, 0, 2, 2, 2, 0, 0, 0, 2, 0, 1, 2, 2, 2, 0, 0, 2, 2,\n",
       "       2, 0, 0, 1, 2, 2, 0, 2, 2, 0, 0, 2, 2, 0])"
      ]
     },
     "execution_count": 7,
     "metadata": {},
     "output_type": "execute_result"
    }
   ],
   "source": [
    "infer_pairs = [(r[\"left_title\"], r[\"right_title\"]) for r in ru_test_records]\n",
    "ru_y_pred = pipe_predict(infer_pairs)[0]\n",
    "ru_y_pred"
   ]
  },
  {
   "cell_type": "code",
   "execution_count": 8,
   "metadata": {
    "colab": {
     "base_uri": "https://localhost:8080/"
    },
    "id": "XsGC0E_-4Hz2",
    "outputId": "1606a7fa-b5ca-44e2-9932-894eb931bf20"
   },
   "outputs": [
    {
     "name": "stdout",
     "output_type": "stream",
     "text": [
      "              precision    recall  f1-score   support\n",
      "\n",
      "           0       0.79      0.87      0.82       291\n",
      "           1       0.67      0.05      0.10       148\n",
      "           2       0.35      0.71      0.47       103\n",
      "\n",
      "    accuracy                           0.61       542\n",
      "   macro avg       0.60      0.54      0.46       542\n",
      "weighted avg       0.67      0.61      0.56       542\n",
      "\n"
     ]
    }
   ],
   "source": [
    "from sklearn.metrics import classification_report, balanced_accuracy_score\n",
    "print(classification_report(ru_y_true, ru_y_pred))"
   ]
  },
  {
   "cell_type": "code",
   "execution_count": 9,
   "metadata": {},
   "outputs": [
    {
     "name": "stdout",
     "output_type": "stream",
     "text": [
      "confidence\t0.7\tbacc\t0.513\tnum\t107\n",
      "confidence\t0.8\tbacc\t0.483\tnum\t117\n",
      "confidence\t0.9\tbacc\t0.544\tnum\t134\n",
      "confidence\t1.0\tbacc\t0.592\tnum\t184\n"
     ]
    }
   ],
   "source": [
    "xs = []\n",
    "ys = []\n",
    "for cc in ('0.7','0.8','0.9','1.0',):\n",
    "    mask = [r[\"mv_part\"]==cc for r in ru_test_records]\n",
    "    print(f'confidence\\t{cc}\\tbacc\\t{balanced_accuracy_score(ru_y_true[mask], ru_y_pred[mask]):0.3}\\tnum\\t{np.sum(mask)}' )\n",
    "    xs.append(float(cc))\n",
    "    ys.append( balanced_accuracy_score(ru_y_true[mask], ru_y_pred[mask]) )\n"
   ]
  },
  {
   "cell_type": "code",
   "execution_count": 30,
   "metadata": {},
   "outputs": [
    {
     "data": {
      "image/png": "[encoded data removed]",
      "text/plain": [
       "<Figure size 432x288 with 1 Axes>"
      ]
     },
     "metadata": {
      "needs_background": "light"
     },
     "output_type": "display_data"
    }
   ],
   "source": [
    "import matplotlib.pyplot as plt\n",
    "\n",
    "plt.scatter(xs,ys)\n",
    "plt.show()"
   ]
  }
 ],
 "metadata": {
  "accelerator": "GPU",
  "colab": {
   "collapsed_sections": [],
   "name": "DeprecatedTitles.ipynb",
   "provenance": []
  },
  "kernelspec": {
   "display_name": "Python 3 (ipykernel)",
   "language": "python",
   "name": "python3"
  },
  "language_info": {
   "codemirror_mode": {
    "name": "ipython",
    "version": 3
   },
   "file_extension": ".py",
   "mimetype": "text/x-python",
   "name": "python",
   "nbconvert_exporter": "python",
   "pygments_lexer": "ipython3",
   "version": "3.7.9"
  },
  "widgets": {
   "application/vnd.jupyter.widget-state+json": {
    "317e3bf1475a4660936f1c8e0f8ad5da": {
     "model_module": "@jupyter-widgets/base",
     "model_name": "LayoutModel",
     "state": {
      "_model_module": "@jupyter-widgets/base",
      "_model_module_version": "1.2.0",
      "_model_name": "LayoutModel",
      "_view_count": null,
      "_view_module": "@jupyter-widgets/base",
      "_view_module_version": "1.2.0",
      "_view_name": "LayoutView",
      "align_content": null,
      "align_items": null,
      "align_self": null,
      "border": null,
      "bottom": null,
      "display": null,
      "flex": null,
      "flex_flow": null,
      "grid_area": null,
      "grid_auto_columns": null,
      "grid_auto_flow": null,
      "grid_auto_rows": null,
      "grid_column": null,
      "grid_gap": null,
      "grid_row": null,
      "grid_template_areas": null,
      "grid_template_columns": null,
      "grid_template_rows": null,
      "height": null,
      "justify_content": null,
      "justify_items": null,
      "left": null,
      "margin": null,
      "max_height": null,
      "max_width": null,
      "min_height": null,
      "min_width": null,
      "object_fit": null,
      "object_position": null,
      "order": null,
      "overflow": null,
      "overflow_x": null,
      "overflow_y": null,
      "padding": null,
      "right": null,
      "top": null,
      "visibility": null,
      "width": null
     }
    },
    "678b99192bf34feaa3591281cf4c9385": {
     "model_module": "@jupyter-widgets/controls",
     "model_name": "ProgressStyleModel",
     "state": {
      "_model_module": "@jupyter-widgets/controls",
      "_model_module_version": "1.5.0",
      "_model_name": "ProgressStyleModel",
      "_view_count": null,
      "_view_module": "@jupyter-widgets/base",
      "_view_module_version": "1.2.0",
      "_view_name": "StyleView",
      "bar_color": null,
      "description_width": "initial"
     }
    },
    "7f1f5cb3c0d2463f8774b83bcf243822": {
     "model_module": "@jupyter-widgets/base",
     "model_name": "LayoutModel",
     "state": {
      "_model_module": "@jupyter-widgets/base",
      "_model_module_version": "1.2.0",
      "_model_name": "LayoutModel",
      "_view_count": null,
      "_view_module": "@jupyter-widgets/base",
      "_view_module_version": "1.2.0",
      "_view_name": "LayoutView",
      "align_content": null,
      "align_items": null,
      "align_self": null,
      "border": null,
      "bottom": null,
      "display": null,
      "flex": null,
      "flex_flow": null,
      "grid_area": null,
      "grid_auto_columns": null,
      "grid_auto_flow": null,
      "grid_auto_rows": null,
      "grid_column": null,
      "grid_gap": null,
      "grid_row": null,
      "grid_template_areas": null,
      "grid_template_columns": null,
      "grid_template_rows": null,
      "height": null,
      "justify_content": null,
      "justify_items": null,
      "left": null,
      "margin": null,
      "max_height": null,
      "max_width": null,
      "min_height": null,
      "min_width": null,
      "object_fit": null,
      "object_position": null,
      "order": null,
      "overflow": null,
      "overflow_x": null,
      "overflow_y": null,
      "padding": null,
      "right": null,
      "top": null,
      "visibility": null,
      "width": null
     }
    },
    "85e64aedcbd44f7daba63e94a81c9e1f": {
     "model_module": "@jupyter-widgets/controls",
     "model_name": "HBoxModel",
     "state": {
      "_dom_classes": [],
      "_model_module": "@jupyter-widgets/controls",
      "_model_module_version": "1.5.0",
      "_model_name": "HBoxModel",
      "_view_count": null,
      "_view_module": "@jupyter-widgets/controls",
      "_view_module_version": "1.5.0",
      "_view_name": "HBoxView",
      "box_style": "",
      "children": [
       "IPY_MODEL_9d4417c0e3584042a686d4c848d94f49",
       "IPY_MODEL_c2d8dd7540064898b8c142175786bf70"
      ],
      "layout": "IPY_MODEL_f958cec91e904d5c9caf315b42a388ed"
     }
    },
    "9d4417c0e3584042a686d4c848d94f49": {
     "model_module": "@jupyter-widgets/controls",
     "model_name": "FloatProgressModel",
     "state": {
      "_dom_classes": [],
      "_model_module": "@jupyter-widgets/controls",
      "_model_module_version": "1.5.0",
      "_model_name": "FloatProgressModel",
      "_view_count": null,
      "_view_module": "@jupyter-widgets/controls",
      "_view_module_version": "1.5.0",
      "_view_name": "ProgressView",
      "bar_style": "success",
      "description": "100%",
      "description_tooltip": null,
      "layout": "IPY_MODEL_317e3bf1475a4660936f1c8e0f8ad5da",
      "max": 55535,
      "min": 0,
      "orientation": "horizontal",
      "style": "IPY_MODEL_678b99192bf34feaa3591281cf4c9385",
      "value": 55535
     }
    },
    "b95d69cae6404d46963c015e18ebbbf9": {
     "model_module": "@jupyter-widgets/controls",
     "model_name": "DescriptionStyleModel",
     "state": {
      "_model_module": "@jupyter-widgets/controls",
      "_model_module_version": "1.5.0",
      "_model_name": "DescriptionStyleModel",
      "_view_count": null,
      "_view_module": "@jupyter-widgets/base",
      "_view_module_version": "1.2.0",
      "_view_name": "StyleView",
      "description_width": ""
     }
    },
    "c2d8dd7540064898b8c142175786bf70": {
     "model_module": "@jupyter-widgets/controls",
     "model_name": "HTMLModel",
     "state": {
      "_dom_classes": [],
      "_model_module": "@jupyter-widgets/controls",
      "_model_module_version": "1.5.0",
      "_model_name": "HTMLModel",
      "_view_count": null,
      "_view_module": "@jupyter-widgets/controls",
      "_view_module_version": "1.5.0",
      "_view_name": "HTMLView",
      "description": "",
      "description_tooltip": null,
      "layout": "IPY_MODEL_7f1f5cb3c0d2463f8774b83bcf243822",
      "placeholder": "​",
      "style": "IPY_MODEL_b95d69cae6404d46963c015e18ebbbf9",
      "value": " 55535/55535 [31:23&lt;00:00, 29.48it/s]"
     }
    },
    "f958cec91e904d5c9caf315b42a388ed": {
     "model_module": "@jupyter-widgets/base",
     "model_name": "LayoutModel",
     "state": {
      "_model_module": "@jupyter-widgets/base",
      "_model_module_version": "1.2.0",
      "_model_name": "LayoutModel",
      "_view_count": null,
      "_view_module": "@jupyter-widgets/base",
      "_view_module_version": "1.2.0",
      "_view_name": "LayoutView",
      "align_content": null,
      "align_items": null,
      "align_self": null,
      "border": null,
      "bottom": null,
      "display": null,
      "flex": null,
      "flex_flow": null,
      "grid_area": null,
      "grid_auto_columns": null,
      "grid_auto_flow": null,
      "grid_auto_rows": null,
      "grid_column": null,
      "grid_gap": null,
      "grid_row": null,
      "grid_template_areas": null,
      "grid_template_columns": null,
      "grid_template_rows": null,
      "height": null,
      "justify_content": null,
      "justify_items": null,
      "left": null,
      "margin": null,
      "max_height": null,
      "max_width": null,
      "min_height": null,
      "min_width": null,
      "object_fit": null,
      "object_position": null,
      "order": null,
      "overflow": null,
      "overflow_x": null,
      "overflow_y": null,
      "padding": null,
      "right": null,
      "top": null,
      "visibility": null,
      "width": null
     }
    }
   }
  }
 },
 "nbformat": 4,
 "nbformat_minor": 1
}
