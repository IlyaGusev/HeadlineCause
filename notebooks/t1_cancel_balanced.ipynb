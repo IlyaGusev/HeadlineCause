{
 "cells": [
  {
   "cell_type": "markdown",
   "metadata": {
    "id": "XaUfkeh4woWU"
   },
   "source": [
    "# Requirements"
   ]
  },
  {
   "cell_type": "code",
   "execution_count": 1,
   "metadata": {
    "colab": {
     "base_uri": "https://localhost:8080/",
     "height": 1000
    },
    "id": "Cmvj-Jh4QgQN",
    "outputId": "b7a875f1-e400-44d7-c53f-d9b072b35027"
   },
   "outputs": [],
   "source": [
    "# !pip install --upgrade transformers bertviz checklist"
   ]
  },
  {
   "cell_type": "markdown",
   "metadata": {
    "id": "wmmy8-VA3__6"
   },
   "source": [
    "# Data loading"
   ]
  },
  {
   "cell_type": "code",
   "execution_count": 2,
   "metadata": {
    "colab": {
     "base_uri": "https://localhost:8080/"
    },
    "id": "Pm5jSAP0No_j",
    "outputId": "4e52957d-d6d0-4581-ae7a-43149e854fc8"
   },
   "outputs": [],
   "source": [
    "# !rm -rf ru_news_cause_v1.tsv*\n",
    "# !wget https://www.dropbox.com/s/kcxnhjzfut4guut/ru_news_cause_v1.tsv.tar.gz\n",
    "# !tar -xzvf ru_news_cause_v1.tsv.tar.gz"
   ]
  },
  {
   "cell_type": "code",
   "execution_count": 3,
   "metadata": {
    "colab": {
     "base_uri": "https://localhost:8080/"
    },
    "id": "bV6i0sRfN3NH",
    "outputId": "e8444783-9e40-4a3a-daf5-eda3c958131d"
   },
   "outputs": [],
   "source": [
    "# !cat ru_news_cause_v1.tsv | wc -l\n",
    "# !head ru_news_cause_v1.tsv"
   ]
  },
  {
   "cell_type": "markdown",
   "metadata": {
    "id": "oEhRCkSOwsGj"
   },
   "source": [
    "# BertCause"
   ]
  },
  {
   "cell_type": "markdown",
   "metadata": {
    "id": "vqyfs3dw4Dmu"
   },
   "source": [
    "## Training"
   ]
  },
  {
   "cell_type": "code",
   "execution_count": 1,
   "metadata": {
    "id": "PAZ3HW8iN9-h"
   },
   "outputs": [],
   "source": [
    "import csv\n",
    "\n",
    "records = []\n",
    "with open(\"ru_news_cause_v1.tsv\", \"r\", encoding='utf-8') as r:\n",
    "    reader = csv.reader(r, delimiter=\"\\t\")\n",
    "    header = next(reader)\n",
    "    for row in reader:\n",
    "        r = dict(zip(header, row))\n",
    "        if float(r[\"confidence\"]) < 0.69:\n",
    "            continue\n",
    "        result = r[\"result\"]\n",
    "        mapping = {\n",
    "#             \"bad\": 0,\n",
    "#             \"rel\": 0,\n",
    "#             \"same\": 0,\n",
    "            \"left_right_cause\": 0,\n",
    "            \"left_right_cancel\": 1,\n",
    "            \"right_left_cause\": 0,\n",
    "            \"right_left_cancel\": 1\n",
    "        }\n",
    "        if result not in mapping:\n",
    "            continue\n",
    "        if result.startswith('right'):\n",
    "            r['left_title'], r['right_title'] = r['right_title'], r['left_title']\n",
    "        r[\"label\"] = mapping[result]\n",
    "        records.append(r)"
   ]
  },
  {
   "cell_type": "code",
   "execution_count": 2,
   "metadata": {
    "colab": {
     "base_uri": "https://localhost:8080/"
    },
    "id": "WN65SEFpOOmI",
    "outputId": "8dee99db-44fb-4b19-c5ac-954d37a65980"
   },
   "outputs": [
    {
     "data": {
      "text/plain": [
       "Counter({1: 162, 0: 1307})"
      ]
     },
     "execution_count": 2,
     "metadata": {},
     "output_type": "execute_result"
    }
   ],
   "source": [
    "from collections import Counter\n",
    "\n",
    "labels_counter = Counter([r[\"label\"] for r in records])\n",
    "labels_count = len(labels_counter)\n",
    "labels_counter"
   ]
  },
  {
   "cell_type": "code",
   "execution_count": 3,
   "metadata": {
    "id": "XFjhL0bWQRov"
   },
   "outputs": [
    {
     "name": "stderr",
     "output_type": "stream",
     "text": [
      "2021-08-01 15:06:53.557829: I tensorflow/stream_executor/platform/default/dso_loader.cc:49] Successfully opened dynamic library libcudart.so.11.0\n"
     ]
    }
   ],
   "source": [
    "import numpy as np\n",
    "import json\n",
    "import torch\n",
    "from torch.utils.data import Dataset\n",
    "from transformers import AutoTokenizer\n",
    "from collections import Counter, defaultdict\n",
    "\n",
    "class NewsPairsDataset(Dataset):\n",
    "    def __init__(self, records, max_tokens, model_name, labels_count):\n",
    "        self.tokenizer = AutoTokenizer.from_pretrained(\n",
    "            model_name,\n",
    "            do_lower_case=False\n",
    "        )\n",
    "        self.max_tokens = max_tokens\n",
    "        self.records = records\n",
    "        labels_counter = Counter([r[\"label\"] for r in self.records])\n",
    "        min_class = min(labels_counter.values())\n",
    "        new_labels_counter = defaultdict(int)\n",
    "        new_records = []\n",
    "        np.random.shuffle(self.records)\n",
    "        for r in self.records:\n",
    "            if new_labels_counter[r['label']] < min_class:\n",
    "                new_labels_counter[r['label']] += 1\n",
    "                new_records.append(r)\n",
    "        self.records = new_records\n",
    "        print(Counter([r[\"label\"] for r in self.records]))\n",
    "        self.labels_count = labels_count\n",
    "    \n",
    "    def __len__(self):\n",
    "        return len(self.records)\n",
    "    \n",
    "    def embed_record(self, record):\n",
    "        inputs = self.tokenizer(\n",
    "            text=record[\"left_title\"],\n",
    "            text_pair=record[\"right_title\"],\n",
    "            add_special_tokens=True,\n",
    "            max_length=self.max_tokens,\n",
    "            padding=\"max_length\",\n",
    "            truncation=\"longest_first\",\n",
    "            return_tensors='pt'\n",
    "        )\n",
    "        for key, value in inputs.items():\n",
    "            value.squeeze_(0)\n",
    "        return inputs\n",
    "    \n",
    "    def __getitem__(self, index):\n",
    "        record = self.records[index]\n",
    "        output = self.embed_record(record)\n",
    "        label = record.get(\"label\", None)\n",
    "        if label is not None:\n",
    "            output[\"labels\"] = torch.tensor(label)\n",
    "        return output"
   ]
  },
  {
   "cell_type": "code",
   "execution_count": 5,
   "metadata": {
    "colab": {
     "base_uri": "https://localhost:8080/"
    },
    "id": "_RkHClonSW6p",
    "outputId": "44515eb4-edac-4be9-e3da-0dc69b70c750"
   },
   "outputs": [
    {
     "name": "stdout",
     "output_type": "stream",
     "text": [
      "1174\n",
      "147\n",
      "148\n"
     ]
    }
   ],
   "source": [
    "import random\n",
    "from collections import defaultdict\n",
    "\n",
    "records_by_source = defaultdict(list)\n",
    "for r in records:\n",
    "    source = r[\"id\"].split(\"_\")[0]\n",
    "    records_by_source[source].append(r)\n",
    "\n",
    "train_records, val_records, test_records = [], [], []\n",
    "for _, source_records in records_by_source.items():\n",
    "    source_records.sort(key=lambda x: min(x[\"left_timestamp\"], x[\"right_timestamp\"]))\n",
    "    val_border = int(0.8 * len(source_records))\n",
    "    test_border = int(0.9 * len(source_records))\n",
    "    train_records.extend(source_records[:val_border])\n",
    "    val_records.extend(source_records[val_border:test_border])\n",
    "    test_records.extend(source_records[test_border:])\n",
    "\n",
    "print(len(train_records))\n",
    "print(len(val_records))\n",
    "print(len(test_records))"
   ]
  },
  {
   "cell_type": "code",
   "execution_count": 6,
   "metadata": {
    "id": "E2MH-5BGCpVO"
   },
   "outputs": [],
   "source": [
    "MODEL_NAME = \"DeepPavlov/rubert-base-cased\"\n",
    "TOKENIZER_NAME = MODEL_NAME\n",
    "MAX_TOKENS = 80"
   ]
  },
  {
   "cell_type": "code",
   "execution_count": 7,
   "metadata": {
    "id": "aQJNA6XPScDJ"
   },
   "outputs": [
    {
     "name": "stdout",
     "output_type": "stream",
     "text": [
      "Counter({0: 128, 1: 128})\n",
      "Counter({0: 15, 1: 15})\n"
     ]
    }
   ],
   "source": [
    "from torch.utils.data import DataLoader, RandomSampler\n",
    "\n",
    "train_data = NewsPairsDataset(train_records, MAX_TOKENS, TOKENIZER_NAME, labels_count)\n",
    "val_data = NewsPairsDataset(val_records, MAX_TOKENS, TOKENIZER_NAME, labels_count)"
   ]
  },
  {
   "cell_type": "code",
   "execution_count": 8,
   "metadata": {
    "colab": {
     "base_uri": "https://localhost:8080/"
    },
    "id": "r_JPSreIS04O",
    "outputId": "fee4a6b7-8874-4fc1-bb58-74b985b05620"
   },
   "outputs": [
    {
     "name": "stdout",
     "output_type": "stream",
     "text": [
      "{'input_ids': tensor([  101, 70852, 20306, 50502, 45065,  2237,   612, 42630,  3005,  7897,\n",
      "          842,   845,  8349,   102, 23269, 82900, 45065,  2237,   612, 42630,\n",
      "         3005,  7897,   842,   845,  8349,  1703,   130,  1758, 31149, 75325,\n",
      "         7957,   102,     0,     0,     0,     0,     0,     0,     0,     0,\n",
      "            0,     0,     0,     0,     0,     0,     0,     0,     0,     0,\n",
      "            0,     0,     0,     0,     0,     0,     0,     0,     0,     0,\n",
      "            0,     0,     0,     0,     0,     0,     0,     0,     0,     0,\n",
      "            0,     0,     0,     0,     0,     0,     0,     0,     0,     0]), 'token_type_ids': tensor([0, 0, 0, 0, 0, 0, 0, 0, 0, 0, 0, 0, 0, 0, 1, 1, 1, 1, 1, 1, 1, 1, 1, 1,\n",
      "        1, 1, 1, 1, 1, 1, 1, 1, 0, 0, 0, 0, 0, 0, 0, 0, 0, 0, 0, 0, 0, 0, 0, 0,\n",
      "        0, 0, 0, 0, 0, 0, 0, 0, 0, 0, 0, 0, 0, 0, 0, 0, 0, 0, 0, 0, 0, 0, 0, 0,\n",
      "        0, 0, 0, 0, 0, 0, 0, 0]), 'attention_mask': tensor([1, 1, 1, 1, 1, 1, 1, 1, 1, 1, 1, 1, 1, 1, 1, 1, 1, 1, 1, 1, 1, 1, 1, 1,\n",
      "        1, 1, 1, 1, 1, 1, 1, 1, 0, 0, 0, 0, 0, 0, 0, 0, 0, 0, 0, 0, 0, 0, 0, 0,\n",
      "        0, 0, 0, 0, 0, 0, 0, 0, 0, 0, 0, 0, 0, 0, 0, 0, 0, 0, 0, 0, 0, 0, 0, 0,\n",
      "        0, 0, 0, 0, 0, 0, 0, 0]), 'labels': tensor(0)}\n"
     ]
    }
   ],
   "source": [
    "for item in train_data:\n",
    "    print(item)\n",
    "    break"
   ]
  },
  {
   "cell_type": "code",
   "execution_count": 9,
   "metadata": {
    "colab": {
     "base_uri": "https://localhost:8080/"
    },
    "id": "TMYTxiJuS8yV",
    "outputId": "ab5f4074-6092-4bae-f2b2-209e4a07d728"
   },
   "outputs": [
    {
     "name": "stdout",
     "output_type": "stream",
     "text": [
      "huggingface/tokenizers: The current process just got forked, after parallelism has already been used. Disabling parallelism to avoid deadlocks...\n",
      "To disable this warning, you can either:\n",
      "\t- Avoid using `tokenizers` before the fork if possible\n",
      "\t- Explicitly set the environment variable TOKENIZERS_PARALLELISM=(true | false)\n"
     ]
    },
    {
     "name": "stderr",
     "output_type": "stream",
     "text": [
      "Some weights of BertForSequenceClassification were not initialized from the model checkpoint at DeepPavlov/rubert-base-cased and are newly initialized: ['classifier.bias', 'classifier.weight']\n",
      "You should probably TRAIN this model on a down-stream task to be able to use it for predictions and inference.\n"
     ]
    }
   ],
   "source": [
    "from transformers import AutoModelForSequenceClassification\n",
    "\n",
    "model = AutoModelForSequenceClassification.from_pretrained(MODEL_NAME, num_labels=labels_count)\n",
    "model = model.to(\"cuda\")"
   ]
  },
  {
   "cell_type": "code",
   "execution_count": 12,
   "metadata": {
    "id": "FloOjGTgj9V_"
   },
   "outputs": [
    {
     "name": "stdout",
     "output_type": "stream",
     "text": [
      "huggingface/tokenizers: The current process just got forked, after parallelism has already been used. Disabling parallelism to avoid deadlocks...\n",
      "To disable this warning, you can either:\n",
      "\t- Avoid using `tokenizers` before the fork if possible\n",
      "\t- Explicitly set the environment variable TOKENIZERS_PARALLELISM=(true | false)\n"
     ]
    }
   ],
   "source": [
    "!rm -rf checkpoints"
   ]
  },
  {
   "cell_type": "code",
   "execution_count": 13,
   "metadata": {
    "colab": {
     "base_uri": "https://localhost:8080/",
     "height": 1000
    },
    "id": "wIxaG3SBS9z-",
    "outputId": "58e0ecf8-ceb1-4935-87b7-9a7cdf57ced9",
    "scrolled": false
   },
   "outputs": [
    {
     "name": "stderr",
     "output_type": "stream",
     "text": [
      "using `logging_steps` to initialize `eval_steps` to 5\n",
      "PyTorch: setting up devices\n",
      "***** Running training *****\n",
      "  Num examples = 256\n",
      "  Num Epochs = 30\n",
      "  Instantaneous batch size per device = 16\n",
      "  Total train batch size (w. parallel, distributed & accumulation) = 128\n",
      "  Gradient Accumulation steps = 8\n",
      "  Total optimization steps = 60\n",
      "Automatic Weights & Biases logging enabled, to disable set os.environ[\"WANDB_DISABLED\"] = \"true\"\n"
     ]
    },
    {
     "data": {
      "text/html": [
       "\n",
       "    <div>\n",
       "      \n",
       "      <progress value='60' max='60' style='width:300px; height:20px; vertical-align: middle;'></progress>\n",
       "      [60/60 04:01, Epoch 30/30]\n",
       "    </div>\n",
       "    <table border=\"1\" class=\"dataframe\">\n",
       "  <thead>\n",
       "    <tr style=\"text-align: left;\">\n",
       "      <th>Step</th>\n",
       "      <th>Training Loss</th>\n",
       "      <th>Validation Loss</th>\n",
       "    </tr>\n",
       "  </thead>\n",
       "  <tbody>\n",
       "    <tr>\n",
       "      <td>5</td>\n",
       "      <td>0.532800</td>\n",
       "      <td>0.460848</td>\n",
       "    </tr>\n",
       "    <tr>\n",
       "      <td>10</td>\n",
       "      <td>0.334500</td>\n",
       "      <td>0.279271</td>\n",
       "    </tr>\n",
       "    <tr>\n",
       "      <td>15</td>\n",
       "      <td>0.206300</td>\n",
       "      <td>0.200141</td>\n",
       "    </tr>\n",
       "    <tr>\n",
       "      <td>20</td>\n",
       "      <td>0.154700</td>\n",
       "      <td>0.138652</td>\n",
       "    </tr>\n",
       "    <tr>\n",
       "      <td>25</td>\n",
       "      <td>0.128800</td>\n",
       "      <td>0.375790</td>\n",
       "    </tr>\n",
       "    <tr>\n",
       "      <td>30</td>\n",
       "      <td>0.108900</td>\n",
       "      <td>0.354930</td>\n",
       "    </tr>\n",
       "    <tr>\n",
       "      <td>35</td>\n",
       "      <td>0.101300</td>\n",
       "      <td>0.198353</td>\n",
       "    </tr>\n",
       "    <tr>\n",
       "      <td>40</td>\n",
       "      <td>0.085300</td>\n",
       "      <td>0.113289</td>\n",
       "    </tr>\n",
       "    <tr>\n",
       "      <td>45</td>\n",
       "      <td>0.073500</td>\n",
       "      <td>0.088369</td>\n",
       "    </tr>\n",
       "    <tr>\n",
       "      <td>50</td>\n",
       "      <td>0.062500</td>\n",
       "      <td>0.069518</td>\n",
       "    </tr>\n",
       "    <tr>\n",
       "      <td>55</td>\n",
       "      <td>0.042500</td>\n",
       "      <td>0.049731</td>\n",
       "    </tr>\n",
       "    <tr>\n",
       "      <td>60</td>\n",
       "      <td>0.031500</td>\n",
       "      <td>0.041115</td>\n",
       "    </tr>\n",
       "  </tbody>\n",
       "</table><p>"
      ],
      "text/plain": [
       "<IPython.core.display.HTML object>"
      ]
     },
     "metadata": {},
     "output_type": "display_data"
    },
    {
     "name": "stderr",
     "output_type": "stream",
     "text": [
      "***** Running Evaluation *****\n",
      "  Num examples = 30\n",
      "  Batch size = 16\n",
      "Saving model checkpoint to checkpoints/checkpoint-5\n",
      "Configuration saved in checkpoints/checkpoint-5/config.json\n",
      "Model weights saved in checkpoints/checkpoint-5/pytorch_model.bin\n",
      "***** Running Evaluation *****\n",
      "  Num examples = 30\n",
      "  Batch size = 16\n",
      "Saving model checkpoint to checkpoints/checkpoint-10\n",
      "Configuration saved in checkpoints/checkpoint-10/config.json\n",
      "Model weights saved in checkpoints/checkpoint-10/pytorch_model.bin\n",
      "***** Running Evaluation *****\n",
      "  Num examples = 30\n",
      "  Batch size = 16\n",
      "Saving model checkpoint to checkpoints/checkpoint-15\n",
      "Configuration saved in checkpoints/checkpoint-15/config.json\n",
      "Model weights saved in checkpoints/checkpoint-15/pytorch_model.bin\n",
      "***** Running Evaluation *****\n",
      "  Num examples = 30\n",
      "  Batch size = 16\n",
      "Saving model checkpoint to checkpoints/checkpoint-20\n",
      "Configuration saved in checkpoints/checkpoint-20/config.json\n",
      "Model weights saved in checkpoints/checkpoint-20/pytorch_model.bin\n",
      "***** Running Evaluation *****\n",
      "  Num examples = 30\n",
      "  Batch size = 16\n",
      "Saving model checkpoint to checkpoints/checkpoint-25\n",
      "Configuration saved in checkpoints/checkpoint-25/config.json\n",
      "Model weights saved in checkpoints/checkpoint-25/pytorch_model.bin\n",
      "***** Running Evaluation *****\n",
      "  Num examples = 30\n",
      "  Batch size = 16\n",
      "Saving model checkpoint to checkpoints/checkpoint-30\n",
      "Configuration saved in checkpoints/checkpoint-30/config.json\n",
      "Model weights saved in checkpoints/checkpoint-30/pytorch_model.bin\n",
      "***** Running Evaluation *****\n",
      "  Num examples = 30\n",
      "  Batch size = 16\n",
      "Saving model checkpoint to checkpoints/checkpoint-35\n",
      "Configuration saved in checkpoints/checkpoint-35/config.json\n",
      "Model weights saved in checkpoints/checkpoint-35/pytorch_model.bin\n",
      "***** Running Evaluation *****\n",
      "  Num examples = 30\n",
      "  Batch size = 16\n",
      "Saving model checkpoint to checkpoints/checkpoint-40\n",
      "Configuration saved in checkpoints/checkpoint-40/config.json\n",
      "Model weights saved in checkpoints/checkpoint-40/pytorch_model.bin\n",
      "***** Running Evaluation *****\n",
      "  Num examples = 30\n",
      "  Batch size = 16\n",
      "Saving model checkpoint to checkpoints/checkpoint-45\n",
      "Configuration saved in checkpoints/checkpoint-45/config.json\n",
      "Model weights saved in checkpoints/checkpoint-45/pytorch_model.bin\n",
      "***** Running Evaluation *****\n",
      "  Num examples = 30\n",
      "  Batch size = 16\n",
      "Saving model checkpoint to checkpoints/checkpoint-50\n",
      "Configuration saved in checkpoints/checkpoint-50/config.json\n",
      "Model weights saved in checkpoints/checkpoint-50/pytorch_model.bin\n",
      "***** Running Evaluation *****\n",
      "  Num examples = 30\n",
      "  Batch size = 16\n",
      "Saving model checkpoint to checkpoints/checkpoint-55\n",
      "Configuration saved in checkpoints/checkpoint-55/config.json\n",
      "Model weights saved in checkpoints/checkpoint-55/pytorch_model.bin\n",
      "***** Running Evaluation *****\n",
      "  Num examples = 30\n",
      "  Batch size = 16\n",
      "Saving model checkpoint to checkpoints/checkpoint-60\n",
      "Configuration saved in checkpoints/checkpoint-60/config.json\n",
      "Model weights saved in checkpoints/checkpoint-60/pytorch_model.bin\n",
      "\n",
      "\n",
      "Training completed. Do not forget to share your model on huggingface.co/models =)\n",
      "\n",
      "\n",
      "Loading best model from checkpoints/checkpoint-60 (score: 0.041114673018455505).\n"
     ]
    },
    {
     "data": {
      "text/plain": [
       "TrainOutput(global_step=60, training_loss=0.15522093524535496, metrics={'train_runtime': 242.0035, 'train_samples_per_second': 31.735, 'train_steps_per_second': 0.248, 'total_flos': 315733266432000.0, 'train_loss': 0.15522093524535496, 'epoch': 30.0})"
      ]
     },
     "execution_count": 13,
     "metadata": {},
     "output_type": "execute_result"
    }
   ],
   "source": [
    "from transformers import Trainer, TrainingArguments\n",
    "\n",
    "EPOCHS = 6\n",
    "EVAL_STEPS = 10 #*8\n",
    "WARMUP_STEPS = 5 # *8\n",
    "LR = 3e-05\n",
    "BATCH_SIZE = 128//8 # \n",
    "GRAD_ACCUM_STEPS = 1*8\n",
    "\n",
    "EPOCHS = 30\n",
    "EVAL_STEPS = 5 #*8\n",
    "\n",
    "\n",
    "training_args = TrainingArguments(\n",
    "    output_dir=\"checkpoints\",\n",
    "    evaluation_strategy=\"steps\",\n",
    "    save_strategy=\"steps\",\n",
    "    per_device_train_batch_size=BATCH_SIZE,\n",
    "    per_device_eval_batch_size=BATCH_SIZE,\n",
    "    logging_steps=EVAL_STEPS,\n",
    "    save_steps=EVAL_STEPS,\n",
    "    warmup_steps=WARMUP_STEPS,\n",
    "    learning_rate=LR,\n",
    "    num_train_epochs=EPOCHS,\n",
    "    gradient_accumulation_steps=GRAD_ACCUM_STEPS,\n",
    "#     report_to=\"none\",\n",
    "    report_to=\"wandb\",  # enable logging to W&B\n",
    "    run_name=\"newscausation_cancel_balanced\",\n",
    "    load_best_model_at_end=True\n",
    ")\n",
    "\n",
    "trainer = Trainer(\n",
    "    model=model,\n",
    "    args=training_args,\n",
    "    train_dataset=train_data,\n",
    "    eval_dataset=val_data\n",
    ")\n",
    "\n",
    "trainer.train()"
   ]
  },
  {
   "cell_type": "markdown",
   "metadata": {
    "id": "igp38wLG38vq"
   },
   "source": [
    "## Inference"
   ]
  },
  {
   "cell_type": "code",
   "execution_count": 14,
   "metadata": {
    "colab": {
     "base_uri": "https://localhost:8080/"
    },
    "id": "sV9t43vBCevH",
    "outputId": "49f4808f-93a0-4d82-d227-13c0e6849867"
   },
   "outputs": [
    {
     "name": "stderr",
     "output_type": "stream",
     "text": [
      "loading configuration file https://huggingface.co/DeepPavlov/rubert-base-cased/resolve/main/config.json from cache at /home/altsoph/.cache/huggingface/transformers/a43261a78bd9edbbf43584c6b00aa94c032301840e532839cb5989362562a5d5.e8f15c5aad2f4653e46ceeba0bb32c02a629d106a902c964bce60523d290ac8f\n",
      "Model config BertConfig {\n",
      "  \"architectures\": [\n",
      "    \"BertModel\"\n",
      "  ],\n",
      "  \"attention_probs_dropout_prob\": 0.1,\n",
      "  \"directionality\": \"bidi\",\n",
      "  \"gradient_checkpointing\": false,\n",
      "  \"hidden_act\": \"gelu\",\n",
      "  \"hidden_dropout_prob\": 0.1,\n",
      "  \"hidden_size\": 768,\n",
      "  \"initializer_range\": 0.02,\n",
      "  \"intermediate_size\": 3072,\n",
      "  \"layer_norm_eps\": 1e-12,\n",
      "  \"max_position_embeddings\": 512,\n",
      "  \"model_type\": \"bert\",\n",
      "  \"num_attention_heads\": 12,\n",
      "  \"num_hidden_layers\": 12,\n",
      "  \"output_past\": true,\n",
      "  \"pad_token_id\": 0,\n",
      "  \"pooler_fc_size\": 768,\n",
      "  \"pooler_num_attention_heads\": 12,\n",
      "  \"pooler_num_fc_layers\": 3,\n",
      "  \"pooler_size_per_head\": 128,\n",
      "  \"pooler_type\": \"first_token_transform\",\n",
      "  \"position_embedding_type\": \"absolute\",\n",
      "  \"transformers_version\": \"4.9.1\",\n",
      "  \"type_vocab_size\": 2,\n",
      "  \"use_cache\": true,\n",
      "  \"vocab_size\": 119547\n",
      "}\n",
      "\n",
      "loading file https://huggingface.co/DeepPavlov/rubert-base-cased/resolve/main/vocab.txt from cache at /home/altsoph/.cache/huggingface/transformers/5dd198988cb85bc18d17f196ffae19788abc4fcff7fbe7f8ef02e1322c5ac3cc.018f85b6550237c27386c0ec90a1ff7bdcf74e56a9e2d32131e29c4689192eaa\n",
      "loading file https://huggingface.co/DeepPavlov/rubert-base-cased/resolve/main/tokenizer.json from cache at None\n",
      "loading file https://huggingface.co/DeepPavlov/rubert-base-cased/resolve/main/added_tokens.json from cache at None\n",
      "loading file https://huggingface.co/DeepPavlov/rubert-base-cased/resolve/main/special_tokens_map.json from cache at /home/altsoph/.cache/huggingface/transformers/853440ef3f696efb168918bd6c8489323dfaad3a7b308974fa2669336a00d203.dd8bd9bfd3664b530ea4e645105f557769387b3da9f79bdb55ed556bdd80611d\n",
      "loading file https://huggingface.co/DeepPavlov/rubert-base-cased/resolve/main/tokenizer_config.json from cache at /home/altsoph/.cache/huggingface/transformers/d9e31304a406bb10bd448caf19da6f894350a8bf96f740aa84e6d291229de7b0.5cc6e825eb228a7a5cfd27cb4d7151e97a79fb962b31aaf1813aa102e746584b\n",
      "loading configuration file https://huggingface.co/DeepPavlov/rubert-base-cased/resolve/main/config.json from cache at /home/altsoph/.cache/huggingface/transformers/a43261a78bd9edbbf43584c6b00aa94c032301840e532839cb5989362562a5d5.e8f15c5aad2f4653e46ceeba0bb32c02a629d106a902c964bce60523d290ac8f\n",
      "Model config BertConfig {\n",
      "  \"architectures\": [\n",
      "    \"BertModel\"\n",
      "  ],\n",
      "  \"attention_probs_dropout_prob\": 0.1,\n",
      "  \"directionality\": \"bidi\",\n",
      "  \"gradient_checkpointing\": false,\n",
      "  \"hidden_act\": \"gelu\",\n",
      "  \"hidden_dropout_prob\": 0.1,\n",
      "  \"hidden_size\": 768,\n",
      "  \"initializer_range\": 0.02,\n",
      "  \"intermediate_size\": 3072,\n",
      "  \"layer_norm_eps\": 1e-12,\n",
      "  \"max_position_embeddings\": 512,\n",
      "  \"model_type\": \"bert\",\n",
      "  \"num_attention_heads\": 12,\n",
      "  \"num_hidden_layers\": 12,\n",
      "  \"output_past\": true,\n",
      "  \"pad_token_id\": 0,\n",
      "  \"pooler_fc_size\": 768,\n",
      "  \"pooler_num_attention_heads\": 12,\n",
      "  \"pooler_num_fc_layers\": 3,\n",
      "  \"pooler_size_per_head\": 128,\n",
      "  \"pooler_type\": \"first_token_transform\",\n",
      "  \"position_embedding_type\": \"absolute\",\n",
      "  \"transformers_version\": \"4.9.1\",\n",
      "  \"type_vocab_size\": 2,\n",
      "  \"use_cache\": true,\n",
      "  \"vocab_size\": 119547\n",
      "}\n",
      "\n",
      "loading configuration file https://huggingface.co/DeepPavlov/rubert-base-cased/resolve/main/config.json from cache at /home/altsoph/.cache/huggingface/transformers/a43261a78bd9edbbf43584c6b00aa94c032301840e532839cb5989362562a5d5.e8f15c5aad2f4653e46ceeba0bb32c02a629d106a902c964bce60523d290ac8f\n",
      "Model config BertConfig {\n",
      "  \"architectures\": [\n",
      "    \"BertModel\"\n",
      "  ],\n",
      "  \"attention_probs_dropout_prob\": 0.1,\n",
      "  \"directionality\": \"bidi\",\n",
      "  \"gradient_checkpointing\": false,\n",
      "  \"hidden_act\": \"gelu\",\n",
      "  \"hidden_dropout_prob\": 0.1,\n",
      "  \"hidden_size\": 768,\n",
      "  \"initializer_range\": 0.02,\n",
      "  \"intermediate_size\": 3072,\n",
      "  \"layer_norm_eps\": 1e-12,\n",
      "  \"max_position_embeddings\": 512,\n",
      "  \"model_type\": \"bert\",\n",
      "  \"num_attention_heads\": 12,\n",
      "  \"num_hidden_layers\": 12,\n",
      "  \"output_past\": true,\n",
      "  \"pad_token_id\": 0,\n",
      "  \"pooler_fc_size\": 768,\n",
      "  \"pooler_num_attention_heads\": 12,\n",
      "  \"pooler_num_fc_layers\": 3,\n",
      "  \"pooler_size_per_head\": 128,\n",
      "  \"pooler_type\": \"first_token_transform\",\n",
      "  \"position_embedding_type\": \"absolute\",\n",
      "  \"transformers_version\": \"4.9.1\",\n",
      "  \"type_vocab_size\": 2,\n",
      "  \"use_cache\": true,\n",
      "  \"vocab_size\": 119547\n",
      "}\n",
      "\n"
     ]
    },
    {
     "name": "stdout",
     "output_type": "stream",
     "text": [
      "Counter({0: 19, 1: 19})\n",
      "[0 0 0 0 0 0 1 1 0 1 0 0 0 0 0 0 1 0 0 1 0 0 0 0 1 1 1 1 1 1 1 1 1 1 1 1 1\n",
      " 1]\n"
     ]
    }
   ],
   "source": [
    "import numpy as np\n",
    "\n",
    "test_data = NewsPairsDataset(test_records, MAX_TOKENS, TOKENIZER_NAME, labels_count)\n",
    "y_true = [item[\"labels\"].item() for item in test_data]\n",
    "y_true = np.array(y_true, dtype=np.int32)\n",
    "print(y_true)"
   ]
  },
  {
   "cell_type": "code",
   "execution_count": 15,
   "metadata": {
    "colab": {
     "base_uri": "https://localhost:8080/"
    },
    "id": "90vJDoeX3GIW",
    "outputId": "23c20716-6833-4c9c-e8d2-ac3151f0c218"
   },
   "outputs": [
    {
     "name": "stdout",
     "output_type": "stream",
     "text": [
      "[0 0 0 0 0 0 1 0 0 1 0 1 0 0 0 0 0 0 0 1 0 0 0 0 1 1 1 1 1 1 0 1 1 1 1 1 1\n",
      " 1]\n"
     ]
    }
   ],
   "source": [
    "y_pred = []\n",
    "with torch.no_grad():\n",
    "    for item in test_data:\n",
    "        for key, value in item.items():\n",
    "            item[key] = value.unsqueeze_(0).cuda()\n",
    "        outputs = model(**item, return_dict=True)\n",
    "        pred = torch.argmax(outputs.logits).item()\n",
    "        y_pred.append(pred)\n",
    "y_pred = np.array(y_pred)\n",
    "print(y_pred)"
   ]
  },
  {
   "cell_type": "code",
   "execution_count": 16,
   "metadata": {
    "colab": {
     "base_uri": "https://localhost:8080/"
    },
    "id": "XsGC0E_-4Hz2",
    "outputId": "cd360f24-3067-4c9b-e70b-bf6402d7a890"
   },
   "outputs": [
    {
     "name": "stdout",
     "output_type": "stream",
     "text": [
      "              precision    recall  f1-score   support\n",
      "\n",
      "           0       0.86      0.95      0.90        19\n",
      "           1       0.94      0.84      0.89        19\n",
      "\n",
      "    accuracy                           0.89        38\n",
      "   macro avg       0.90      0.89      0.89        38\n",
      "weighted avg       0.90      0.89      0.89        38\n",
      "\n",
      "balanced_accuracy_score 0.894736842105263\n",
      "\n",
      "confusion_matrix\n",
      " [[18  1]\n",
      " [ 3 16]]\n"
     ]
    }
   ],
   "source": [
    "from sklearn.metrics import classification_report, balanced_accuracy_score, confusion_matrix\n",
    "print(classification_report(y_true, y_pred))\n",
    "print('balanced_accuracy_score', balanced_accuracy_score(y_true, y_pred))\n",
    "print('\\nconfusion_matrix\\n',confusion_matrix(y_true, y_pred))"
   ]
  },
  {
   "cell_type": "markdown",
   "metadata": {
    "id": "U7tAc2-UmQsn"
   },
   "source": [
    "## Interpretation"
   ]
  },
  {
   "cell_type": "markdown",
   "metadata": {
    "id": "UdOBPcftt5mA"
   },
   "source": [
    "### Errors"
   ]
  },
  {
   "cell_type": "code",
   "execution_count": 17,
   "metadata": {
    "colab": {
     "base_uri": "https://localhost:8080/"
    },
    "id": "fs9yc9euTg8s",
    "outputId": "fba69b51-9a95-42b5-ddd6-5423c0b17313"
   },
   "outputs": [
    {
     "name": "stdout",
     "output_type": "stream",
     "text": [
      "LEFT: Первый канал изменит формат вечернего шоу из-за болезни Урганта\n",
      "RIGHT: Ургант вернулся на ТВ и рассказал о последствиях коронавируса\n",
      "LABELS: true:cancel, pred:cause\n",
      "\n",
      "LEFT: Россиянин Немков защитил титул чемпиона Bellator\n",
      "RIGHT: Россиянин Немков оказался в больнице после защиты чемпионского титула Bellator\n",
      "LABELS: true:cause, pred:cancel\n",
      "\n",
      "LEFT: Самая дешевая рыба в России станет дороже\n",
      "RIGHT: Россиян попросили не верить сообщениям о росте цен на самую дешевую рыбу\n",
      "LABELS: true:cancel, pred:cause\n",
      "\n",
      "LEFT: Тарасова назвала Роднину дурой\n",
      "RIGHT: Роднина ответила назвавшей ее дурой Тарасовой\n",
      "LABELS: true:cancel, pred:cause\n",
      "\n"
     ]
    },
    {
     "ename": "IndexError",
     "evalue": "index 38 is out of bounds for axis 0 with size 38",
     "output_type": "error",
     "traceback": [
      "\u001b[0;31m---------------------------------------------------------------------------\u001b[0m",
      "\u001b[0;31mIndexError\u001b[0m                                Traceback (most recent call last)",
      "\u001b[0;32m/tmp/ipykernel_18997/2666292761.py\u001b[0m in \u001b[0;36m<module>\u001b[0;34m\u001b[0m\n\u001b[1;32m      5\u001b[0m \u001b[0;31m#         2: \"right_left\"\u001b[0m\u001b[0;34m\u001b[0m\u001b[0;34m\u001b[0m\u001b[0;34m\u001b[0m\u001b[0m\n\u001b[1;32m      6\u001b[0m     }\n\u001b[0;32m----> 7\u001b[0;31m     \u001b[0;32mif\u001b[0m \u001b[0my_true\u001b[0m\u001b[0;34m[\u001b[0m\u001b[0mi\u001b[0m\u001b[0;34m]\u001b[0m \u001b[0;34m!=\u001b[0m \u001b[0my_pred\u001b[0m\u001b[0;34m[\u001b[0m\u001b[0mi\u001b[0m\u001b[0;34m]\u001b[0m\u001b[0;34m:\u001b[0m\u001b[0;34m\u001b[0m\u001b[0;34m\u001b[0m\u001b[0m\n\u001b[0m\u001b[1;32m      8\u001b[0m         \u001b[0mprint\u001b[0m\u001b[0;34m(\u001b[0m\u001b[0;34m\"LEFT:\"\u001b[0m\u001b[0;34m,\u001b[0m \u001b[0mr\u001b[0m\u001b[0;34m[\u001b[0m\u001b[0;34m\"left_title\"\u001b[0m\u001b[0;34m]\u001b[0m\u001b[0;34m)\u001b[0m\u001b[0;34m\u001b[0m\u001b[0;34m\u001b[0m\u001b[0m\n\u001b[1;32m      9\u001b[0m         \u001b[0mprint\u001b[0m\u001b[0;34m(\u001b[0m\u001b[0;34m\"RIGHT:\"\u001b[0m\u001b[0;34m,\u001b[0m \u001b[0mr\u001b[0m\u001b[0;34m[\u001b[0m\u001b[0;34m\"right_title\"\u001b[0m\u001b[0;34m]\u001b[0m\u001b[0;34m)\u001b[0m\u001b[0;34m\u001b[0m\u001b[0;34m\u001b[0m\u001b[0m\n",
      "\u001b[0;31mIndexError\u001b[0m: index 38 is out of bounds for axis 0 with size 38"
     ]
    }
   ],
   "source": [
    "for i, r in enumerate(test_records):\n",
    "    mapping = {\n",
    "        0: \"cause\",\n",
    "        1: \"cancel\",\n",
    "#         2: \"right_left\"\n",
    "    }\n",
    "    if y_true[i] != y_pred[i]:\n",
    "        print(\"LEFT:\", r[\"left_title\"])\n",
    "        print(\"RIGHT:\", r[\"right_title\"])\n",
    "        print(\"LABELS: true:{}, pred:{}\".format(mapping[y_true[i]], mapping[y_pred[i]]))\n",
    "        print()"
   ]
  }
 ],
 "metadata": {
  "accelerator": "GPU",
  "colab": {
   "collapsed_sections": [
    "XN_3krN3VNHl"
   ],
   "name": "DeprecatedTitles.ipynb",
   "provenance": [],
   "toc_visible": true
  },
  "kernelspec": {
   "display_name": "Python 3 (ipykernel)",
   "language": "python",
   "name": "python3"
  },
  "language_info": {
   "codemirror_mode": {
    "name": "ipython",
    "version": 3
   },
   "file_extension": ".py",
   "mimetype": "text/x-python",
   "name": "python",
   "nbconvert_exporter": "python",
   "pygments_lexer": "ipython3",
   "version": "3.7.9"
  },
  "widgets": {
   "application/vnd.jupyter.widget-state+json": {
    "317e3bf1475a4660936f1c8e0f8ad5da": {
     "model_module": "@jupyter-widgets/base",
     "model_name": "LayoutModel",
     "state": {
      "_model_module": "@jupyter-widgets/base",
      "_model_module_version": "1.2.0",
      "_model_name": "LayoutModel",
      "_view_count": null,
      "_view_module": "@jupyter-widgets/base",
      "_view_module_version": "1.2.0",
      "_view_name": "LayoutView",
      "align_content": null,
      "align_items": null,
      "align_self": null,
      "border": null,
      "bottom": null,
      "display": null,
      "flex": null,
      "flex_flow": null,
      "grid_area": null,
      "grid_auto_columns": null,
      "grid_auto_flow": null,
      "grid_auto_rows": null,
      "grid_column": null,
      "grid_gap": null,
      "grid_row": null,
      "grid_template_areas": null,
      "grid_template_columns": null,
      "grid_template_rows": null,
      "height": null,
      "justify_content": null,
      "justify_items": null,
      "left": null,
      "margin": null,
      "max_height": null,
      "max_width": null,
      "min_height": null,
      "min_width": null,
      "object_fit": null,
      "object_position": null,
      "order": null,
      "overflow": null,
      "overflow_x": null,
      "overflow_y": null,
      "padding": null,
      "right": null,
      "top": null,
      "visibility": null,
      "width": null
     }
    },
    "678b99192bf34feaa3591281cf4c9385": {
     "model_module": "@jupyter-widgets/controls",
     "model_name": "ProgressStyleModel",
     "state": {
      "_model_module": "@jupyter-widgets/controls",
      "_model_module_version": "1.5.0",
      "_model_name": "ProgressStyleModel",
      "_view_count": null,
      "_view_module": "@jupyter-widgets/base",
      "_view_module_version": "1.2.0",
      "_view_name": "StyleView",
      "bar_color": null,
      "description_width": "initial"
     }
    },
    "7f1f5cb3c0d2463f8774b83bcf243822": {
     "model_module": "@jupyter-widgets/base",
     "model_name": "LayoutModel",
     "state": {
      "_model_module": "@jupyter-widgets/base",
      "_model_module_version": "1.2.0",
      "_model_name": "LayoutModel",
      "_view_count": null,
      "_view_module": "@jupyter-widgets/base",
      "_view_module_version": "1.2.0",
      "_view_name": "LayoutView",
      "align_content": null,
      "align_items": null,
      "align_self": null,
      "border": null,
      "bottom": null,
      "display": null,
      "flex": null,
      "flex_flow": null,
      "grid_area": null,
      "grid_auto_columns": null,
      "grid_auto_flow": null,
      "grid_auto_rows": null,
      "grid_column": null,
      "grid_gap": null,
      "grid_row": null,
      "grid_template_areas": null,
      "grid_template_columns": null,
      "grid_template_rows": null,
      "height": null,
      "justify_content": null,
      "justify_items": null,
      "left": null,
      "margin": null,
      "max_height": null,
      "max_width": null,
      "min_height": null,
      "min_width": null,
      "object_fit": null,
      "object_position": null,
      "order": null,
      "overflow": null,
      "overflow_x": null,
      "overflow_y": null,
      "padding": null,
      "right": null,
      "top": null,
      "visibility": null,
      "width": null
     }
    },
    "85e64aedcbd44f7daba63e94a81c9e1f": {
     "model_module": "@jupyter-widgets/controls",
     "model_name": "HBoxModel",
     "state": {
      "_dom_classes": [],
      "_model_module": "@jupyter-widgets/controls",
      "_model_module_version": "1.5.0",
      "_model_name": "HBoxModel",
      "_view_count": null,
      "_view_module": "@jupyter-widgets/controls",
      "_view_module_version": "1.5.0",
      "_view_name": "HBoxView",
      "box_style": "",
      "children": [
       "IPY_MODEL_9d4417c0e3584042a686d4c848d94f49",
       "IPY_MODEL_c2d8dd7540064898b8c142175786bf70"
      ],
      "layout": "IPY_MODEL_f958cec91e904d5c9caf315b42a388ed"
     }
    },
    "9d4417c0e3584042a686d4c848d94f49": {
     "model_module": "@jupyter-widgets/controls",
     "model_name": "FloatProgressModel",
     "state": {
      "_dom_classes": [],
      "_model_module": "@jupyter-widgets/controls",
      "_model_module_version": "1.5.0",
      "_model_name": "FloatProgressModel",
      "_view_count": null,
      "_view_module": "@jupyter-widgets/controls",
      "_view_module_version": "1.5.0",
      "_view_name": "ProgressView",
      "bar_style": "success",
      "description": "100%",
      "description_tooltip": null,
      "layout": "IPY_MODEL_317e3bf1475a4660936f1c8e0f8ad5da",
      "max": 55535,
      "min": 0,
      "orientation": "horizontal",
      "style": "IPY_MODEL_678b99192bf34feaa3591281cf4c9385",
      "value": 55535
     }
    },
    "b95d69cae6404d46963c015e18ebbbf9": {
     "model_module": "@jupyter-widgets/controls",
     "model_name": "DescriptionStyleModel",
     "state": {
      "_model_module": "@jupyter-widgets/controls",
      "_model_module_version": "1.5.0",
      "_model_name": "DescriptionStyleModel",
      "_view_count": null,
      "_view_module": "@jupyter-widgets/base",
      "_view_module_version": "1.2.0",
      "_view_name": "StyleView",
      "description_width": ""
     }
    },
    "c2d8dd7540064898b8c142175786bf70": {
     "model_module": "@jupyter-widgets/controls",
     "model_name": "HTMLModel",
     "state": {
      "_dom_classes": [],
      "_model_module": "@jupyter-widgets/controls",
      "_model_module_version": "1.5.0",
      "_model_name": "HTMLModel",
      "_view_count": null,
      "_view_module": "@jupyter-widgets/controls",
      "_view_module_version": "1.5.0",
      "_view_name": "HTMLView",
      "description": "",
      "description_tooltip": null,
      "layout": "IPY_MODEL_7f1f5cb3c0d2463f8774b83bcf243822",
      "placeholder": "​",
      "style": "IPY_MODEL_b95d69cae6404d46963c015e18ebbbf9",
      "value": " 55535/55535 [31:23&lt;00:00, 29.48it/s]"
     }
    },
    "f958cec91e904d5c9caf315b42a388ed": {
     "model_module": "@jupyter-widgets/base",
     "model_name": "LayoutModel",
     "state": {
      "_model_module": "@jupyter-widgets/base",
      "_model_module_version": "1.2.0",
      "_model_name": "LayoutModel",
      "_view_count": null,
      "_view_module": "@jupyter-widgets/base",
      "_view_module_version": "1.2.0",
      "_view_name": "LayoutView",
      "align_content": null,
      "align_items": null,
      "align_self": null,
      "border": null,
      "bottom": null,
      "display": null,
      "flex": null,
      "flex_flow": null,
      "grid_area": null,
      "grid_auto_columns": null,
      "grid_auto_flow": null,
      "grid_auto_rows": null,
      "grid_column": null,
      "grid_gap": null,
      "grid_row": null,
      "grid_template_areas": null,
      "grid_template_columns": null,
      "grid_template_rows": null,
      "height": null,
      "justify_content": null,
      "justify_items": null,
      "left": null,
      "margin": null,
      "max_height": null,
      "max_width": null,
      "min_height": null,
      "min_width": null,
      "object_fit": null,
      "object_position": null,
      "order": null,
      "overflow": null,
      "overflow_x": null,
      "overflow_y": null,
      "padding": null,
      "right": null,
      "top": null,
      "visibility": null,
      "width": null
     }
    }
   }
  }
 },
 "nbformat": 4,
 "nbformat_minor": 1
}
